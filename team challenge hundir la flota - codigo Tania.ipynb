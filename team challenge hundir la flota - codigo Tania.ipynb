{
 "cells": [
  {
   "cell_type": "markdown",
   "metadata": {},
   "source": [
    "**CÓDIGO HUNDIR LA FLOTA**\n"
   ]
  },
  {
   "cell_type": "code",
   "execution_count": 29,
   "metadata": {},
   "outputs": [
    {
     "data": {
      "text/plain": [
       "array([[' ', ' ', ' ', ' ', ' ', ' ', ' ', ' ', ' ', ' '],\n",
       "       [' ', ' ', ' ', ' ', ' ', ' ', ' ', ' ', ' ', ' '],\n",
       "       [' ', ' ', ' ', ' ', ' ', ' ', ' ', ' ', ' ', ' '],\n",
       "       [' ', ' ', ' ', ' ', ' ', ' ', ' ', ' ', ' ', ' '],\n",
       "       [' ', ' ', ' ', ' ', ' ', ' ', ' ', ' ', ' ', ' '],\n",
       "       [' ', ' ', ' ', ' ', ' ', ' ', ' ', ' ', ' ', ' '],\n",
       "       [' ', ' ', ' ', ' ', ' ', ' ', ' ', ' ', ' ', ' '],\n",
       "       [' ', ' ', ' ', ' ', ' ', ' ', ' ', ' ', ' ', ' '],\n",
       "       [' ', ' ', ' ', ' ', ' ', ' ', ' ', ' ', ' ', ' '],\n",
       "       [' ', ' ', ' ', ' ', ' ', ' ', ' ', ' ', ' ', ' ']], dtype='<U1')"
      ]
     },
     "execution_count": 29,
     "metadata": {},
     "output_type": "execute_result"
    }
   ],
   "source": [
    "import numpy as np\n",
    "\n",
    "# No he definido la clase todavia \n",
    "\n",
    "\n",
    "tablero = np.full((10,10), \" \")\n",
    "\n",
    "tablero"
   ]
  },
  {
   "cell_type": "code",
   "execution_count": 30,
   "metadata": {},
   "outputs": [
    {
     "data": {
      "text/plain": [
       "array([[' ', 'O', ' ', ' ', ' ', ' ', ' ', ' ', ' ', ' '],\n",
       "       [' ', 'O', ' ', 'O', 'O', 'O', 'O', ' ', ' ', ' '],\n",
       "       [' ', ' ', ' ', ' ', ' ', ' ', ' ', ' ', ' ', ' '],\n",
       "       [' ', ' ', ' ', ' ', ' ', ' ', ' ', ' ', ' ', ' '],\n",
       "       [' ', ' ', ' ', ' ', ' ', ' ', ' ', ' ', ' ', ' '],\n",
       "       [' ', ' ', ' ', ' ', ' ', ' ', ' ', ' ', ' ', ' '],\n",
       "       [' ', ' ', ' ', ' ', ' ', ' ', ' ', ' ', ' ', ' '],\n",
       "       [' ', ' ', ' ', ' ', ' ', ' ', ' ', ' ', ' ', ' '],\n",
       "       [' ', ' ', ' ', ' ', ' ', ' ', ' ', ' ', ' ', ' '],\n",
       "       [' ', ' ', ' ', ' ', ' ', ' ', ' ', ' ', ' ', ' ']], dtype='<U1')"
      ]
     },
     "execution_count": 30,
     "metadata": {},
     "output_type": "execute_result"
    }
   ],
   "source": [
    "tablero[0:2,1:2] = \"O\"     # quiero mi barco en posicion [(0,1),(1,1)]\n",
    "                           # a través del slicing, le pido que recorra las filas 0 y 1 (de 0 hasta antes de 2) y la columna 1 (o de 1 hasta antes de la 2)\n",
    "\n",
    "\n",
    "tablero[1:2, 3:7] = \"O\"    # quiero mi barco en posicion [(1,3), (1,4), (1,5), (1,6)]\n",
    "                           # quiero que recorra solo la fila 1 (de la 1 hasta antes de la 2) y de las columnas 3 a la 6 (de 3 a la de antes de la 7)\n",
    "\n",
    "tablero"
   ]
  },
  {
   "cell_type": "code",
   "execution_count": 31,
   "metadata": {},
   "outputs": [
    {
     "data": {
      "text/plain": [
       "array([[' ', 'O', ' ', ' ', ' ', ' ', ' ', ' ', ' ', ' '],\n",
       "       [' ', 'O', ' ', 'O', 'X', 'O', 'O', ' ', ' ', ' '],\n",
       "       [' ', ' ', ' ', ' ', ' ', ' ', ' ', ' ', ' ', ' '],\n",
       "       [' ', ' ', ' ', ' ', ' ', ' ', ' ', ' ', ' ', ' '],\n",
       "       [' ', ' ', ' ', ' ', ' ', ' ', ' ', ' ', ' ', ' '],\n",
       "       [' ', ' ', ' ', ' ', ' ', ' ', ' ', ' ', ' ', '-'],\n",
       "       [' ', ' ', ' ', ' ', ' ', ' ', ' ', ' ', ' ', ' '],\n",
       "       [' ', ' ', ' ', ' ', ' ', ' ', ' ', ' ', ' ', ' '],\n",
       "       [' ', ' ', ' ', ' ', ' ', ' ', ' ', ' ', ' ', ' '],\n",
       "       [' ', ' ', ' ', ' ', ' ', ' ', ' ', ' ', ' ', ' ']], dtype='<U1')"
      ]
     },
     "execution_count": 31,
     "metadata": {},
     "output_type": "execute_result"
    }
   ],
   "source": [
    "# Recibimos un disparo en uno de los barcos y lo marcamos con una X\n",
    "# POR EJEMPLO: en mi barco de 4 esloras, posicion (1,4)\n",
    "\n",
    "tablero[1:2, 4:5] = \"X\"\n",
    "\n",
    "# El siguiente disparo es agua y lo marcamos con un guión -\n",
    "# POR EJEMPLO: posicion (5,9)\n",
    "\n",
    "tablero[5:6,9:10] = \"-\"\n",
    "\n",
    "tablero"
   ]
  },
  {
   "cell_type": "code",
   "execution_count": 32,
   "metadata": {},
   "outputs": [],
   "source": [
    "\"\"\"\n",
    "ESTA ES MI FUNCION PARA COLOCAR BARCOS ALEATORIAMENTE, TIENE EN CUENTA QUE NO PISE OTRO BARCO, AUN LE FALTA QUE COMPRUEBE QUE ESTÉ DENTRO DE LOS LÍMITES DEL TABLERO.\n",
    "\n",
    "Voy a trabajar en esto para indicar como parámetro el nº de esloras y simplificar la lectura del código.\n",
    "\n",
    "\"\"\"\n",
    "\n",
    "\n",
    "def coloca_barco():\n",
    "\n",
    "    import random\n",
    "\n",
    "    coordenada_1 = np.random.randint(0,10)   # establecemos  el primer elemento de mi coordenada aleatoria, elemento fila \n",
    "    coordenada_2 = np.random.randint(0,10)   # establecemos el segundo elemento de mi coordenada origen aleatoria, elemento columna\n",
    "    barco = (coordenada_1, coordenada_2)     # lo monto en una tupla para acceder más adelante a ese índice / coordenada del tablero\n",
    "    orientacion = [\"Norte\",\"Sur\",\"Este\",\"Oeste\"]    \n",
    "    orientacion_barco = random.choice(orientacion)    # creo una lista de orientación aleatoria NSEO\n",
    "\n",
    "    condicion_posicion = np.array(tablero[barco] == \" \" or \"-\")  # nos aseguramos de que no se nos pisan los barcos, solo devuelve \" \"(agua) / \"-\" (disparo fallido), no \"O\"(barcos)\n",
    "\n",
    "    if condicion_posicion == True:                        \n",
    "\n",
    "        tablero[barco] = \"O\"  # accedo al tablero en la coordenada aleatoria que he generado y le cambio el valor por \"O\", indicando que ahí hay ahora un barco\n",
    "        \n",
    "        ### ORIENTACION OESTE - EN HORIZONTAL Y HACIA ATRAS\n",
    "        if orientacion_barco == \"Oeste\":\n",
    "            tablero[coordenada_1 : (coordenada_1 + 1), coordenada_2 : (coordenada_2 - 4) : -1] = \"O\"  # -4 num de esloras/columnas que ocupa, en negativo porque es sentido oeste\n",
    "            print(tablero)\n",
    "            print(f\"Has colocado tu barco de 4 esloras en una posicion inicial de {barco} hacia el Oeste.\")\n",
    "\n",
    "        ## ORIENTACION ESTE -- EN HORIZONTAL HACIA ADELANTE\n",
    "        if orientacion_barco == \"Este\":\n",
    "            tablero[coordenada_1 : (coordenada_1 + 1), coordenada_2 : (coordenada_2 + 4) ] = \"O\"  # + 4 porque es de 4 esloras que se colocan sentido este, de izqda a derecha\n",
    "            print(tablero)                                                                            # -1 porque queremos que recorra el array hacia atras\n",
    "            print(f\"Has colocado tu barco de 4 esloras en una posicion inicial de {barco} hacia el Este.\")\n",
    "\n",
    "        ## ORIENTACION SUR --- EN VERTICAL DE ARRIBA A ABAJO\n",
    "        if orientacion_barco == \"Sur\":\n",
    "            tablero[coordenada_1 : (coordenada_1 + 4), coordenada_2 : (coordenada_2 + 1) ] = \"O\"  # + 4 porque es de 4 esloras/ filas que se colocan sentido este, de arriba a abajo\n",
    "            print(tablero)\n",
    "            print(f\"Has colocado tu barco de 4 esloras en una posicion inicial de {barco} hacia el Sur.\")\n",
    "\n",
    "        ## ORIENTACION NORTE -- EN VERTIVAL DE ABAJO A ARRIBA\n",
    "        if orientacion_barco == \"Norte\":\n",
    "            tablero[coordenada_1 : (coordenada_1 - 4) : -1, coordenada_2 : (coordenada_2 + 1) ] = \"O\"  # + 4 porque es de 4 esloras que se colocan sentido este, de izqda a derecha\n",
    "            print(tablero)\n",
    "            print(f\"Has colocado tu barco de 4 esloras en una posicion inicial de {barco} hacia el Norte.\")\n",
    "\n",
    "            "
   ]
  },
  {
   "cell_type": "code",
   "execution_count": 33,
   "metadata": {},
   "outputs": [],
   "source": [
    "\"\"\"\"\n",
    "FUNCION DISPARAR DE MODO ALEATORIO:\n",
    "\n",
    "Aqui faltaría implementar dos niveles de dificultad, tal cual está sería el nivel fácil.\n",
    "El nivel difícil permite un segundo disparo si el primero es agua.\n",
    "\n",
    "\"\"\"\n",
    "\n",
    "def dispara(tablero):\n",
    "    coor_1 = np.random.randint(0,10)   # establecemos  el primer elemento de mi coordenada aleatoria, elemento fila \n",
    "    coor_2 = np.random.randint(0,10)   # establecemos el segundo elemento de mi coordenada origen aleatoria, elemento columna\n",
    "    disparo = (coor_1, coor_2) \n",
    "    \n",
    "    agua = np.array(tablero[disparo] == \" \")\n",
    "    tocado = np.array(tablero[disparo] == \"O\")\n",
    "\n",
    "    if agua == True:\n",
    "        tablero[disparo] = \"-\"\n",
    "        print(f\"¡Agua! Has disparado a la coordenada {disparo}.\")\n",
    "    \n",
    "    else:\n",
    "        tablero[disparo] = \"X\"\n",
    "        print(f\"¡Tocado! Has acertado disparando a la coordenada{disparo}.\")\n",
    "\n",
    "    return tablero"
   ]
  },
  {
   "cell_type": "code",
   "execution_count": 34,
   "metadata": {},
   "outputs": [
    {
     "name": "stdout",
     "output_type": "stream",
     "text": [
      "[[' ' 'O' ' ' ' ' ' ' ' ' ' ' ' ' ' ' ' ']\n",
      " [' ' 'O' ' ' 'O' 'X' 'O' 'O' ' ' ' ' ' ']\n",
      " [' ' ' ' ' ' ' ' ' ' ' ' ' ' ' ' ' ' ' ']\n",
      " ['O' ' ' ' ' ' ' ' ' ' ' ' ' ' ' ' ' ' ']\n",
      " [' ' ' ' ' ' ' ' ' ' ' ' ' ' ' ' ' ' ' ']\n",
      " [' ' ' ' ' ' ' ' ' ' ' ' ' ' ' ' ' ' '-']\n",
      " [' ' ' ' ' ' ' ' ' ' ' ' ' ' ' ' ' ' ' ']\n",
      " [' ' ' ' ' ' ' ' ' ' ' ' ' ' ' ' ' ' ' ']\n",
      " [' ' ' ' ' ' ' ' ' ' ' ' ' ' ' ' ' ' ' ']\n",
      " [' ' ' ' ' ' ' ' ' ' ' ' ' ' ' ' ' ' ' ']]\n",
      "Has colocado tu barco de 4 esloras en una posicion inicial de (3, 0) hacia el Oeste.\n"
     ]
    }
   ],
   "source": [
    "\"\"\"COMPROBACIONES A CONTINUACION\"\"\"\n",
    "\n",
    "coloca_barco()"
   ]
  },
  {
   "cell_type": "code",
   "execution_count": null,
   "metadata": {},
   "outputs": [
    {
     "name": "stdout",
     "output_type": "stream",
     "text": [
      "¡Agua! Has disparado a la coordenada (3, 3).\n"
     ]
    },
    {
     "data": {
      "text/plain": [
       "array([[' ', 'O', ' ', ' ', ' ', ' ', ' ', ' ', ' ', ' '],\n",
       "       [' ', 'O', ' ', 'O', 'X', 'O', 'O', ' ', ' ', ' '],\n",
       "       [' ', ' ', ' ', ' ', ' ', ' ', ' ', ' ', ' ', ' '],\n",
       "       ['O', ' ', ' ', '-', ' ', ' ', ' ', ' ', ' ', ' '],\n",
       "       [' ', ' ', ' ', ' ', ' ', ' ', ' ', ' ', ' ', ' '],\n",
       "       [' ', ' ', ' ', ' ', ' ', ' ', ' ', ' ', ' ', '-'],\n",
       "       [' ', ' ', ' ', ' ', ' ', ' ', ' ', ' ', ' ', ' '],\n",
       "       [' ', ' ', ' ', ' ', ' ', ' ', ' ', ' ', ' ', ' '],\n",
       "       [' ', ' ', ' ', ' ', ' ', ' ', ' ', ' ', ' ', ' '],\n",
       "       [' ', ' ', ' ', ' ', ' ', ' ', ' ', ' ', ' ', ' ']], dtype='<U1')"
      ]
     },
     "execution_count": 35,
     "metadata": {},
     "output_type": "execute_result"
    }
   ],
   "source": [
    "dispara(tablero) ## marca agua como \"-\" para que no vuelva a disparar dos veces a la misma coordenada"
   ]
  },
  {
   "cell_type": "code",
   "execution_count": null,
   "metadata": {},
   "outputs": [
    {
     "name": "stdout",
     "output_type": "stream",
     "text": [
      "¡Tocado! Has acertado disparando a la coordenada(0, 1).\n"
     ]
    },
    {
     "data": {
      "text/plain": [
       "array([[' ', 'X', ' ', ' ', ' ', ' ', ' ', ' ', ' ', ' '],\n",
       "       [' ', 'O', ' ', 'O', 'X', 'O', 'O', ' ', ' ', ' '],\n",
       "       [' ', ' ', ' ', ' ', ' ', ' ', ' ', ' ', ' ', ' '],\n",
       "       ['O', ' ', ' ', '-', ' ', ' ', ' ', ' ', ' ', ' '],\n",
       "       [' ', ' ', ' ', ' ', ' ', ' ', ' ', ' ', ' ', ' '],\n",
       "       [' ', ' ', ' ', ' ', ' ', ' ', '-', ' ', ' ', '-'],\n",
       "       [' ', ' ', ' ', ' ', ' ', ' ', ' ', ' ', ' ', '-'],\n",
       "       [' ', ' ', ' ', ' ', ' ', ' ', ' ', ' ', ' ', ' '],\n",
       "       [' ', ' ', ' ', ' ', ' ', ' ', ' ', ' ', ' ', ' '],\n",
       "       [' ', ' ', ' ', ' ', ' ', ' ', ' ', ' ', ' ', ' ']], dtype='<U1')"
      ]
     },
     "execution_count": 38,
     "metadata": {},
     "output_type": "execute_result"
    }
   ],
   "source": [
    "dispara(tablero) ## en cuanto disparamos y acertamos a un barco, vemos como marcamos dicha coordenada \"X\" / tocado"
   ]
  },
  {
   "cell_type": "code",
   "execution_count": null,
   "metadata": {},
   "outputs": [],
   "source": []
  }
 ],
 "metadata": {
  "kernelspec": {
   "display_name": "Python 3",
   "language": "python",
   "name": "python3"
  },
  "language_info": {
   "codemirror_mode": {
    "name": "ipython",
    "version": 3
   },
   "file_extension": ".py",
   "mimetype": "text/x-python",
   "name": "python",
   "nbconvert_exporter": "python",
   "pygments_lexer": "ipython3",
   "version": "3.13.2"
  }
 },
 "nbformat": 4,
 "nbformat_minor": 2
}
